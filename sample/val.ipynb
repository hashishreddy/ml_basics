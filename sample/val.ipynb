{
 "cells": [
  {
   "cell_type": "code",
   "execution_count": 1,
   "id": "2ccf20f2",
   "metadata": {},
   "outputs": [
    {
     "name": "stderr",
     "output_type": "stream",
     "text": [
      "/Users/harshil/anaconda3/lib/python3.10/site-packages/pandas/core/arrays/masked.py:60: UserWarning: Pandas requires version '1.3.6' or newer of 'bottleneck' (version '1.3.5' currently installed).\n",
      "  from pandas.core import (\n",
      "/var/folders/4p/7vfgzzfn7q5dmq63pxmv3dlm0000gn/T/ipykernel_15750/4080736814.py:1: DeprecationWarning: \n",
      "Pyarrow will become a required dependency of pandas in the next major release of pandas (pandas 3.0),\n",
      "(to allow more performant data types, such as the Arrow string type, and better interoperability with other libraries)\n",
      "but was not found to be installed on your system.\n",
      "If this would cause problems for you,\n",
      "please provide us feedback at https://github.com/pandas-dev/pandas/issues/54466\n",
      "        \n",
      "  import pandas as pd\n"
     ]
    }
   ],
   "source": [
    "import pandas as pd"
   ]
  },
  {
   "cell_type": "code",
   "execution_count": 5,
   "id": "8e98abb9",
   "metadata": {},
   "outputs": [],
   "source": [
    "import pickle\n",
    "\n",
    "# Load the models\n",
    "with open('model.pkl', 'rb') as f:\n",
    "    model = pickle.load(f)\n",
    "\n",
    "with open('vectorise.pkl', 'rb') as f:\n",
    "    v = pickle.load(f)"
   ]
  },
  {
   "cell_type": "code",
   "execution_count": 6,
   "id": "8b5f965c",
   "metadata": {},
   "outputs": [],
   "source": [
    "df = pd.read_csv('Cyber2_val.csv')"
   ]
  },
  {
   "cell_type": "code",
   "execution_count": 7,
   "id": "9b91be8c",
   "metadata": {},
   "outputs": [
    {
     "data": {
      "text/html": [
       "<div>\n",
       "<style scoped>\n",
       "    .dataframe tbody tr th:only-of-type {\n",
       "        vertical-align: middle;\n",
       "    }\n",
       "\n",
       "    .dataframe tbody tr th {\n",
       "        vertical-align: top;\n",
       "    }\n",
       "\n",
       "    .dataframe thead th {\n",
       "        text-align: right;\n",
       "    }\n",
       "</style>\n",
       "<table border=\"1\" class=\"dataframe\">\n",
       "  <thead>\n",
       "    <tr style=\"text-align: right;\">\n",
       "      <th></th>\n",
       "      <th>url</th>\n",
       "      <th>ID</th>\n",
       "    </tr>\n",
       "  </thead>\n",
       "  <tbody>\n",
       "    <tr>\n",
       "      <th>0</th>\n",
       "      <td>forums.roadbikereview.com/general-cycling-disc...</td>\n",
       "      <td>93864</td>\n",
       "    </tr>\n",
       "    <tr>\n",
       "      <th>1</th>\n",
       "      <td>baseball-reference.com/teams/MON/1988.shtml</td>\n",
       "      <td>192687</td>\n",
       "    </tr>\n",
       "    <tr>\n",
       "      <th>2</th>\n",
       "      <td>jaycookmusic.com/</td>\n",
       "      <td>106530</td>\n",
       "    </tr>\n",
       "    <tr>\n",
       "      <th>3</th>\n",
       "      <td>imdb.com/name/nm0768996/</td>\n",
       "      <td>263109</td>\n",
       "    </tr>\n",
       "    <tr>\n",
       "      <th>4</th>\n",
       "      <td>pipl.com/directory/name/Le%20Ber/Pierre</td>\n",
       "      <td>132895</td>\n",
       "    </tr>\n",
       "  </tbody>\n",
       "</table>\n",
       "</div>"
      ],
      "text/plain": [
       "                                                 url      ID\n",
       "0  forums.roadbikereview.com/general-cycling-disc...   93864\n",
       "1        baseball-reference.com/teams/MON/1988.shtml  192687\n",
       "2                                  jaycookmusic.com/  106530\n",
       "3                           imdb.com/name/nm0768996/  263109\n",
       "4            pipl.com/directory/name/Le%20Ber/Pierre  132895"
      ]
     },
     "execution_count": 7,
     "metadata": {},
     "output_type": "execute_result"
    }
   ],
   "source": [
    "df.head()"
   ]
  },
  {
   "cell_type": "code",
   "execution_count": 8,
   "id": "1a254126",
   "metadata": {},
   "outputs": [],
   "source": [
    "X = df['url']"
   ]
  },
  {
   "cell_type": "code",
   "execution_count": 10,
   "id": "33479a15",
   "metadata": {},
   "outputs": [],
   "source": [
    "X_count = v.transform(X)"
   ]
  },
  {
   "cell_type": "code",
   "execution_count": 12,
   "id": "265b60f3",
   "metadata": {},
   "outputs": [],
   "source": [
    "y_pred = model.predict(X_count)"
   ]
  },
  {
   "cell_type": "code",
   "execution_count": 15,
   "id": "e8a40add",
   "metadata": {},
   "outputs": [
    {
     "name": "stdout",
     "output_type": "stream",
     "text": [
      "       MultinomialNB\n",
      "0                  1\n",
      "1                  1\n",
      "2                  1\n",
      "3                  1\n",
      "4                  1\n",
      "...              ...\n",
      "67270              1\n",
      "67271              1\n",
      "67272              1\n",
      "67273              1\n",
      "67274              0\n",
      "\n",
      "[67275 rows x 1 columns]\n"
     ]
    }
   ],
   "source": [
    "df_predictions = pd.DataFrame({\n",
    "    'MultinomialNB': y_pred\n",
    "})\n",
    "\n",
    "print(df_predictions)"
   ]
  },
  {
   "cell_type": "code",
   "execution_count": 19,
   "id": "00738c1f",
   "metadata": {},
   "outputs": [
    {
     "data": {
      "text/plain": [
       "MultinomialNB\n",
       "1                56800\n",
       "0                10475\n",
       "Name: count, dtype: int64"
      ]
     },
     "execution_count": 19,
     "metadata": {},
     "output_type": "execute_result"
    }
   ],
   "source": [
    "df_predictions.value_counts()"
   ]
  },
  {
   "cell_type": "code",
   "execution_count": null,
   "id": "a99a80a6",
   "metadata": {},
   "outputs": [],
   "source": []
  }
 ],
 "metadata": {
  "kernelspec": {
   "display_name": "Python 3 (ipykernel)",
   "language": "python",
   "name": "python3"
  },
  "language_info": {
   "codemirror_mode": {
    "name": "ipython",
    "version": 3
   },
   "file_extension": ".py",
   "mimetype": "text/x-python",
   "name": "python",
   "nbconvert_exporter": "python",
   "pygments_lexer": "ipython3",
   "version": "3.10.9"
  }
 },
 "nbformat": 4,
 "nbformat_minor": 5
}
