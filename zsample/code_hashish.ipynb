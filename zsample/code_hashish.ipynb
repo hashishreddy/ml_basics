{
 "cells": [
  {
   "cell_type": "code",
   "execution_count": 162,
   "id": "0d84e138",
   "metadata": {},
   "outputs": [],
   "source": [
    "import pandas as pd"
   ]
  },
  {
   "cell_type": "code",
   "execution_count": 163,
   "id": "7e7043f8",
   "metadata": {},
   "outputs": [],
   "source": [
    "df = pd.read_csv('Cyber1_train.csv')"
   ]
  },
  {
   "cell_type": "code",
   "execution_count": 164,
   "id": "e86a8f39",
   "metadata": {},
   "outputs": [
    {
     "data": {
      "text/html": [
       "<div>\n",
       "<style scoped>\n",
       "    .dataframe tbody tr th:only-of-type {\n",
       "        vertical-align: middle;\n",
       "    }\n",
       "\n",
       "    .dataframe tbody tr th {\n",
       "        vertical-align: top;\n",
       "    }\n",
       "\n",
       "    .dataframe thead th {\n",
       "        text-align: right;\n",
       "    }\n",
       "</style>\n",
       "<table border=\"1\" class=\"dataframe\">\n",
       "  <thead>\n",
       "    <tr style=\"text-align: right;\">\n",
       "      <th></th>\n",
       "      <th>id</th>\n",
       "      <th>dur</th>\n",
       "      <th>proto</th>\n",
       "      <th>service</th>\n",
       "      <th>state</th>\n",
       "      <th>spkts</th>\n",
       "      <th>dpkts</th>\n",
       "      <th>sbytes</th>\n",
       "      <th>dbytes</th>\n",
       "      <th>rate</th>\n",
       "      <th>...</th>\n",
       "      <th>ct_dst_sport_ltm</th>\n",
       "      <th>ct_dst_src_ltm</th>\n",
       "      <th>is_ftp_login</th>\n",
       "      <th>ct_ftp_cmd</th>\n",
       "      <th>ct_flw_http_mthd</th>\n",
       "      <th>ct_src_ltm</th>\n",
       "      <th>ct_srv_dst</th>\n",
       "      <th>is_sm_ips_ports</th>\n",
       "      <th>attack_cat</th>\n",
       "      <th>label</th>\n",
       "    </tr>\n",
       "  </thead>\n",
       "  <tbody>\n",
       "    <tr>\n",
       "      <th>0</th>\n",
       "      <td>151143</td>\n",
       "      <td>0.000003</td>\n",
       "      <td>udp</td>\n",
       "      <td>-</td>\n",
       "      <td>INT</td>\n",
       "      <td>2</td>\n",
       "      <td>0</td>\n",
       "      <td>104</td>\n",
       "      <td>0</td>\n",
       "      <td>333333.321500</td>\n",
       "      <td>...</td>\n",
       "      <td>1</td>\n",
       "      <td>2</td>\n",
       "      <td>0</td>\n",
       "      <td>0</td>\n",
       "      <td>0</td>\n",
       "      <td>1</td>\n",
       "      <td>3</td>\n",
       "      <td>0</td>\n",
       "      <td>Fuzzers</td>\n",
       "      <td>1</td>\n",
       "    </tr>\n",
       "    <tr>\n",
       "      <th>1</th>\n",
       "      <td>80153</td>\n",
       "      <td>2.308886</td>\n",
       "      <td>tcp</td>\n",
       "      <td>-</td>\n",
       "      <td>FIN</td>\n",
       "      <td>10</td>\n",
       "      <td>8</td>\n",
       "      <td>564</td>\n",
       "      <td>354</td>\n",
       "      <td>7.362858</td>\n",
       "      <td>...</td>\n",
       "      <td>1</td>\n",
       "      <td>1</td>\n",
       "      <td>0</td>\n",
       "      <td>0</td>\n",
       "      <td>0</td>\n",
       "      <td>1</td>\n",
       "      <td>1</td>\n",
       "      <td>0</td>\n",
       "      <td>Reconnaissance</td>\n",
       "      <td>1</td>\n",
       "    </tr>\n",
       "    <tr>\n",
       "      <th>2</th>\n",
       "      <td>164542</td>\n",
       "      <td>0.000003</td>\n",
       "      <td>udp</td>\n",
       "      <td>dns</td>\n",
       "      <td>INT</td>\n",
       "      <td>2</td>\n",
       "      <td>0</td>\n",
       "      <td>114</td>\n",
       "      <td>0</td>\n",
       "      <td>333333.321500</td>\n",
       "      <td>...</td>\n",
       "      <td>17</td>\n",
       "      <td>17</td>\n",
       "      <td>0</td>\n",
       "      <td>0</td>\n",
       "      <td>0</td>\n",
       "      <td>18</td>\n",
       "      <td>17</td>\n",
       "      <td>0</td>\n",
       "      <td>Generic</td>\n",
       "      <td>1</td>\n",
       "    </tr>\n",
       "    <tr>\n",
       "      <th>3</th>\n",
       "      <td>32390</td>\n",
       "      <td>0.004722</td>\n",
       "      <td>tcp</td>\n",
       "      <td>-</td>\n",
       "      <td>FIN</td>\n",
       "      <td>18</td>\n",
       "      <td>18</td>\n",
       "      <td>3960</td>\n",
       "      <td>2456</td>\n",
       "      <td>7412.113355</td>\n",
       "      <td>...</td>\n",
       "      <td>1</td>\n",
       "      <td>4</td>\n",
       "      <td>0</td>\n",
       "      <td>0</td>\n",
       "      <td>0</td>\n",
       "      <td>7</td>\n",
       "      <td>7</td>\n",
       "      <td>0</td>\n",
       "      <td>Normal</td>\n",
       "      <td>0</td>\n",
       "    </tr>\n",
       "    <tr>\n",
       "      <th>4</th>\n",
       "      <td>161063</td>\n",
       "      <td>0.000002</td>\n",
       "      <td>udp</td>\n",
       "      <td>dns</td>\n",
       "      <td>INT</td>\n",
       "      <td>2</td>\n",
       "      <td>0</td>\n",
       "      <td>114</td>\n",
       "      <td>0</td>\n",
       "      <td>500000.001300</td>\n",
       "      <td>...</td>\n",
       "      <td>16</td>\n",
       "      <td>29</td>\n",
       "      <td>0</td>\n",
       "      <td>0</td>\n",
       "      <td>0</td>\n",
       "      <td>16</td>\n",
       "      <td>29</td>\n",
       "      <td>0</td>\n",
       "      <td>Generic</td>\n",
       "      <td>1</td>\n",
       "    </tr>\n",
       "  </tbody>\n",
       "</table>\n",
       "<p>5 rows × 45 columns</p>\n",
       "</div>"
      ],
      "text/plain": [
       "       id       dur proto service state  spkts  dpkts  sbytes  dbytes  \\\n",
       "0  151143  0.000003   udp       -   INT      2      0     104       0   \n",
       "1   80153  2.308886   tcp       -   FIN     10      8     564     354   \n",
       "2  164542  0.000003   udp     dns   INT      2      0     114       0   \n",
       "3   32390  0.004722   tcp       -   FIN     18     18    3960    2456   \n",
       "4  161063  0.000002   udp     dns   INT      2      0     114       0   \n",
       "\n",
       "            rate  ...  ct_dst_sport_ltm  ct_dst_src_ltm  is_ftp_login  \\\n",
       "0  333333.321500  ...                 1               2             0   \n",
       "1       7.362858  ...                 1               1             0   \n",
       "2  333333.321500  ...                17              17             0   \n",
       "3    7412.113355  ...                 1               4             0   \n",
       "4  500000.001300  ...                16              29             0   \n",
       "\n",
       "   ct_ftp_cmd  ct_flw_http_mthd  ct_src_ltm  ct_srv_dst  is_sm_ips_ports  \\\n",
       "0           0                 0           1           3                0   \n",
       "1           0                 0           1           1                0   \n",
       "2           0                 0          18          17                0   \n",
       "3           0                 0           7           7                0   \n",
       "4           0                 0          16          29                0   \n",
       "\n",
       "       attack_cat  label  \n",
       "0         Fuzzers      1  \n",
       "1  Reconnaissance      1  \n",
       "2         Generic      1  \n",
       "3          Normal      0  \n",
       "4         Generic      1  \n",
       "\n",
       "[5 rows x 45 columns]"
      ]
     },
     "execution_count": 164,
     "metadata": {},
     "output_type": "execute_result"
    }
   ],
   "source": [
    "df.head()"
   ]
  },
  {
   "cell_type": "code",
   "execution_count": 165,
   "id": "0a0296a0",
   "metadata": {},
   "outputs": [
    {
     "name": "stdout",
     "output_type": "stream",
     "text": [
      "<class 'pandas.core.frame.DataFrame'>\n",
      "RangeIndex: 112217 entries, 0 to 112216\n",
      "Data columns (total 45 columns):\n",
      " #   Column             Non-Null Count   Dtype  \n",
      "---  ------             --------------   -----  \n",
      " 0   id                 112217 non-null  int64  \n",
      " 1   dur                112217 non-null  float64\n",
      " 2   proto              112217 non-null  object \n",
      " 3   service            112217 non-null  object \n",
      " 4   state              112217 non-null  object \n",
      " 5   spkts              112217 non-null  int64  \n",
      " 6   dpkts              112217 non-null  int64  \n",
      " 7   sbytes             112217 non-null  int64  \n",
      " 8   dbytes             112217 non-null  int64  \n",
      " 9   rate               112217 non-null  float64\n",
      " 10  sttl               112217 non-null  int64  \n",
      " 11  dttl               112217 non-null  int64  \n",
      " 12  sload              112217 non-null  float64\n",
      " 13  dload              112217 non-null  float64\n",
      " 14  sloss              112217 non-null  int64  \n",
      " 15  dloss              112217 non-null  int64  \n",
      " 16  sinpkt             112217 non-null  float64\n",
      " 17  dinpkt             112217 non-null  float64\n",
      " 18  sjit               112217 non-null  float64\n",
      " 19  djit               112217 non-null  float64\n",
      " 20  swin               112217 non-null  int64  \n",
      " 21  stcpb              112217 non-null  int64  \n",
      " 22  dtcpb              112217 non-null  int64  \n",
      " 23  dwin               112217 non-null  int64  \n",
      " 24  tcprtt             112217 non-null  float64\n",
      " 25  synack             112217 non-null  float64\n",
      " 26  ackdat             112217 non-null  float64\n",
      " 27  smean              112217 non-null  int64  \n",
      " 28  dmean              112217 non-null  int64  \n",
      " 29  trans_depth        112217 non-null  int64  \n",
      " 30  response_body_len  112217 non-null  int64  \n",
      " 31  ct_srv_src         112217 non-null  int64  \n",
      " 32  ct_state_ttl       112217 non-null  int64  \n",
      " 33  ct_dst_ltm         112217 non-null  int64  \n",
      " 34  ct_src_dport_ltm   112217 non-null  int64  \n",
      " 35  ct_dst_sport_ltm   112217 non-null  int64  \n",
      " 36  ct_dst_src_ltm     112217 non-null  int64  \n",
      " 37  is_ftp_login       112217 non-null  int64  \n",
      " 38  ct_ftp_cmd         112217 non-null  int64  \n",
      " 39  ct_flw_http_mthd   112217 non-null  int64  \n",
      " 40  ct_src_ltm         112217 non-null  int64  \n",
      " 41  ct_srv_dst         112217 non-null  int64  \n",
      " 42  is_sm_ips_ports    112217 non-null  int64  \n",
      " 43  attack_cat         112217 non-null  object \n",
      " 44  label              112217 non-null  int64  \n",
      "dtypes: float64(11), int64(30), object(4)\n",
      "memory usage: 38.5+ MB\n"
     ]
    }
   ],
   "source": [
    "df.info()"
   ]
  },
  {
   "cell_type": "code",
   "execution_count": 166,
   "id": "7914fb97",
   "metadata": {},
   "outputs": [
    {
     "data": {
      "text/plain": [
       "attack_cat\n",
       "Normal            35840\n",
       "Generic           25585\n",
       "Exploits          21514\n",
       "Fuzzers           11593\n",
       "DoS                7837\n",
       "Reconnaissance     6655\n",
       "Analysis           1257\n",
       "Backdoor           1133\n",
       "Shellcode           722\n",
       "Worms                81\n",
       "Name: count, dtype: int64"
      ]
     },
     "execution_count": 166,
     "metadata": {},
     "output_type": "execute_result"
    }
   ],
   "source": [
    "df['attack_cat'].value_counts()"
   ]
  },
  {
   "cell_type": "code",
   "execution_count": 167,
   "id": "8821c3fd",
   "metadata": {},
   "outputs": [],
   "source": [
    "from sklearn.preprocessing import LabelEncoder\n",
    "\n",
    "le = LabelEncoder()"
   ]
  },
  {
   "cell_type": "code",
   "execution_count": 168,
   "id": "594ae033",
   "metadata": {},
   "outputs": [],
   "source": [
    "df['attack_cat'] = le.fit_transform(df['attack_cat'])"
   ]
  },
  {
   "cell_type": "code",
   "execution_count": 169,
   "id": "3952ae3b",
   "metadata": {},
   "outputs": [],
   "source": [
    "df['proto'] = le.fit_transform(df['proto'])\n",
    "df['service'] = le.fit_transform(df['service'])\n",
    "df['state'] = le.fit_transform(df['state'])"
   ]
  },
  {
   "cell_type": "code",
   "execution_count": 173,
   "id": "5a67cf1d",
   "metadata": {},
   "outputs": [],
   "source": [
    "from sklearn.preprocessing import StandardScaler\n",
    "\n",
    "scaler = StandardScaler()"
   ]
  },
  {
   "cell_type": "code",
   "execution_count": 174,
   "id": "c57c7427",
   "metadata": {},
   "outputs": [
    {
     "data": {
      "text/plain": [
       "array([[ 1.25552432, -0.20911086,  0.42020499, ..., -0.5676767 ,\n",
       "        -0.12655666, -0.42596238],\n",
       "       [-0.14726096,  0.14997587,  0.15173381, ..., -0.75364391,\n",
       "        -0.12655666,  1.4883947 ],\n",
       "       [ 1.52029288, -0.20911086,  0.42020499, ...,  0.7340938 ,\n",
       "        -0.12655666,  0.21215665],\n",
       "       ...,\n",
       "       [-0.95632759, -0.20764551,  0.15173381, ..., -0.5676767 ,\n",
       "        -0.12655666,  0.85027567],\n",
       "       [ 1.63703686, -0.20911055,  0.42020499, ...,  1.29199544,\n",
       "        -0.12655666,  0.21215665],\n",
       "       [-0.1796086 , -0.03344323,  0.15173381, ..., -0.6606603 ,\n",
       "        -0.12655666, -0.42596238]])"
      ]
     },
     "execution_count": 174,
     "metadata": {},
     "output_type": "execute_result"
    }
   ],
   "source": [
    "df_scaled"
   ]
  },
  {
   "cell_type": "code",
   "execution_count": 175,
   "id": "2b0d8739",
   "metadata": {},
   "outputs": [],
   "source": [
    "y=df['label']"
   ]
  },
  {
   "cell_type": "code",
   "execution_count": 176,
   "id": "57f0f526",
   "metadata": {},
   "outputs": [],
   "source": [
    "X = df.drop('label', axis = 1)\n",
    "X.head()\n",
    "df_scaled = scaler.fit_transform(X)"
   ]
  },
  {
   "cell_type": "code",
   "execution_count": 195,
   "id": "eaddb2de",
   "metadata": {},
   "outputs": [],
   "source": [
    "from sklearn.decomposition import PCA\n",
    "\n",
    "pca = PCA(n_components = 3)"
   ]
  },
  {
   "cell_type": "code",
   "execution_count": 196,
   "id": "28dcb2c7",
   "metadata": {},
   "outputs": [],
   "source": [
    "df_pca = pca.fit_transform(df_scaled)"
   ]
  },
  {
   "cell_type": "code",
   "execution_count": 199,
   "id": "c4512d02",
   "metadata": {},
   "outputs": [],
   "source": [
    "df_pca = pd.DataFrame(data=df_pca, columns=['PC1', 'PC2', 'PC3'])"
   ]
  },
  {
   "cell_type": "code",
   "execution_count": 200,
   "id": "80ab894d",
   "metadata": {},
   "outputs": [
    {
     "data": {
      "text/html": [
       "<div>\n",
       "<style scoped>\n",
       "    .dataframe tbody tr th:only-of-type {\n",
       "        vertical-align: middle;\n",
       "    }\n",
       "\n",
       "    .dataframe tbody tr th {\n",
       "        vertical-align: top;\n",
       "    }\n",
       "\n",
       "    .dataframe thead th {\n",
       "        text-align: right;\n",
       "    }\n",
       "</style>\n",
       "<table border=\"1\" class=\"dataframe\">\n",
       "  <thead>\n",
       "    <tr style=\"text-align: right;\">\n",
       "      <th></th>\n",
       "      <th>PC1</th>\n",
       "      <th>PC2</th>\n",
       "      <th>PC3</th>\n",
       "    </tr>\n",
       "  </thead>\n",
       "  <tbody>\n",
       "    <tr>\n",
       "      <th>0</th>\n",
       "      <td>-1.359233</td>\n",
       "      <td>-2.059613</td>\n",
       "      <td>-0.100073</td>\n",
       "    </tr>\n",
       "    <tr>\n",
       "      <th>1</th>\n",
       "      <td>3.420552</td>\n",
       "      <td>0.816738</td>\n",
       "      <td>-2.183103</td>\n",
       "    </tr>\n",
       "    <tr>\n",
       "      <th>2</th>\n",
       "      <td>-4.396629</td>\n",
       "      <td>1.005340</td>\n",
       "      <td>-0.253752</td>\n",
       "    </tr>\n",
       "    <tr>\n",
       "      <th>3</th>\n",
       "      <td>1.412969</td>\n",
       "      <td>-0.473506</td>\n",
       "      <td>1.592930</td>\n",
       "    </tr>\n",
       "    <tr>\n",
       "      <th>4</th>\n",
       "      <td>-5.286594</td>\n",
       "      <td>1.491276</td>\n",
       "      <td>-0.274324</td>\n",
       "    </tr>\n",
       "  </tbody>\n",
       "</table>\n",
       "</div>"
      ],
      "text/plain": [
       "        PC1       PC2       PC3\n",
       "0 -1.359233 -2.059613 -0.100073\n",
       "1  3.420552  0.816738 -2.183103\n",
       "2 -4.396629  1.005340 -0.253752\n",
       "3  1.412969 -0.473506  1.592930\n",
       "4 -5.286594  1.491276 -0.274324"
      ]
     },
     "execution_count": 200,
     "metadata": {},
     "output_type": "execute_result"
    }
   ],
   "source": [
    "df_pca.head()"
   ]
  },
  {
   "cell_type": "code",
   "execution_count": 201,
   "id": "b525b293",
   "metadata": {},
   "outputs": [
    {
     "data": {
      "text/plain": [
       "0         1\n",
       "1         1\n",
       "2         1\n",
       "3         0\n",
       "4         1\n",
       "         ..\n",
       "112212    0\n",
       "112213    1\n",
       "112214    0\n",
       "112215    1\n",
       "112216    1\n",
       "Name: label, Length: 112217, dtype: int64"
      ]
     },
     "execution_count": 201,
     "metadata": {},
     "output_type": "execute_result"
    }
   ],
   "source": [
    "y"
   ]
  },
  {
   "cell_type": "code",
   "execution_count": 202,
   "id": "7cf3896a",
   "metadata": {},
   "outputs": [
    {
     "data": {
      "text/plain": [
       "(112217, 3)"
      ]
     },
     "execution_count": 202,
     "metadata": {},
     "output_type": "execute_result"
    }
   ],
   "source": [
    "df_pca.shape"
   ]
  },
  {
   "cell_type": "code",
   "execution_count": 203,
   "id": "fcde3013",
   "metadata": {},
   "outputs": [],
   "source": [
    "from sklearn.model_selection import train_test_split\n",
    "X_train, X_test, y_train, y_test = train_test_split(df_pca, y, test_size = 0.3, random_state = 32)"
   ]
  },
  {
   "cell_type": "code",
   "execution_count": 211,
   "id": "41dc84b2",
   "metadata": {},
   "outputs": [],
   "source": [
    "from sklearn.svm import SVC\n",
    "\n",
    "model = SVC(kernel = 'rbf', C = 1)"
   ]
  },
  {
   "cell_type": "code",
   "execution_count": 212,
   "id": "3fd107e6",
   "metadata": {},
   "outputs": [
    {
     "data": {
      "text/plain": [
       "0.9001960434860097"
      ]
     },
     "execution_count": 212,
     "metadata": {},
     "output_type": "execute_result"
    }
   ],
   "source": [
    "model.fit(X_train,y_train)\n",
    "model.score(X_test, y_test)"
   ]
  },
  {
   "cell_type": "code",
   "execution_count": 206,
   "id": "684135de",
   "metadata": {},
   "outputs": [],
   "source": [
    "from sklearn.metrics import accuracy_score\n",
    "\n",
    "y_pred = model.predict(X_test)"
   ]
  },
  {
   "cell_type": "code",
   "execution_count": 207,
   "id": "7bf003fd",
   "metadata": {},
   "outputs": [
    {
     "name": "stdout",
     "output_type": "stream",
     "text": [
      "0.9206023881661023\n"
     ]
    }
   ],
   "source": [
    "print(accuracy_score(y_test, y_pred))"
   ]
  },
  {
   "cell_type": "code",
   "execution_count": 208,
   "id": "3cb7bff0",
   "metadata": {},
   "outputs": [
    {
     "name": "stdout",
     "output_type": "stream",
     "text": [
      "              precision    recall  f1-score   support\n",
      "\n",
      "           0       0.99      0.76      0.86     10837\n",
      "           1       0.90      1.00      0.94     22829\n",
      "\n",
      "    accuracy                           0.92     33666\n",
      "   macro avg       0.94      0.88      0.90     33666\n",
      "weighted avg       0.93      0.92      0.92     33666\n",
      "\n"
     ]
    }
   ],
   "source": [
    "from sklearn.metrics import classification_report, confusion_matrix\n",
    "\n",
    "print(classification_report(y_test, y_pred))"
   ]
  },
  {
   "cell_type": "code",
   "execution_count": null,
   "id": "bded329f",
   "metadata": {},
   "outputs": [],
   "source": []
  }
 ],
 "metadata": {
  "kernelspec": {
   "display_name": "Python 3 (ipykernel)",
   "language": "python",
   "name": "python3"
  },
  "language_info": {
   "codemirror_mode": {
    "name": "ipython",
    "version": 3
   },
   "file_extension": ".py",
   "mimetype": "text/x-python",
   "name": "python",
   "nbconvert_exporter": "python",
   "pygments_lexer": "ipython3",
   "version": "3.10.9"
  }
 },
 "nbformat": 4,
 "nbformat_minor": 5
}
