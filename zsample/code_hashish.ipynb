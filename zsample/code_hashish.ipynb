{
 "cells": [
  {
   "cell_type": "code",
   "execution_count": 106,
   "id": "c05df747",
   "metadata": {},
   "outputs": [],
   "source": [
    "import pandas as pd"
   ]
  },
  {
   "cell_type": "code",
   "execution_count": 107,
   "id": "b663945a",
   "metadata": {},
   "outputs": [],
   "source": [
    "df = pd.read_csv('Cyber1_train.csv')"
   ]
  },
  {
   "cell_type": "code",
   "execution_count": 108,
   "id": "35048617",
   "metadata": {},
   "outputs": [
    {
     "data": {
      "text/html": [
       "<div>\n",
       "<style scoped>\n",
       "    .dataframe tbody tr th:only-of-type {\n",
       "        vertical-align: middle;\n",
       "    }\n",
       "\n",
       "    .dataframe tbody tr th {\n",
       "        vertical-align: top;\n",
       "    }\n",
       "\n",
       "    .dataframe thead th {\n",
       "        text-align: right;\n",
       "    }\n",
       "</style>\n",
       "<table border=\"1\" class=\"dataframe\">\n",
       "  <thead>\n",
       "    <tr style=\"text-align: right;\">\n",
       "      <th></th>\n",
       "      <th>id</th>\n",
       "      <th>dur</th>\n",
       "      <th>proto</th>\n",
       "      <th>service</th>\n",
       "      <th>state</th>\n",
       "      <th>spkts</th>\n",
       "      <th>dpkts</th>\n",
       "      <th>sbytes</th>\n",
       "      <th>dbytes</th>\n",
       "      <th>rate</th>\n",
       "      <th>...</th>\n",
       "      <th>ct_dst_sport_ltm</th>\n",
       "      <th>ct_dst_src_ltm</th>\n",
       "      <th>is_ftp_login</th>\n",
       "      <th>ct_ftp_cmd</th>\n",
       "      <th>ct_flw_http_mthd</th>\n",
       "      <th>ct_src_ltm</th>\n",
       "      <th>ct_srv_dst</th>\n",
       "      <th>is_sm_ips_ports</th>\n",
       "      <th>attack_cat</th>\n",
       "      <th>label</th>\n",
       "    </tr>\n",
       "  </thead>\n",
       "  <tbody>\n",
       "    <tr>\n",
       "      <th>0</th>\n",
       "      <td>151143</td>\n",
       "      <td>0.000003</td>\n",
       "      <td>udp</td>\n",
       "      <td>-</td>\n",
       "      <td>INT</td>\n",
       "      <td>2</td>\n",
       "      <td>0</td>\n",
       "      <td>104</td>\n",
       "      <td>0</td>\n",
       "      <td>333333.321500</td>\n",
       "      <td>...</td>\n",
       "      <td>1</td>\n",
       "      <td>2</td>\n",
       "      <td>0</td>\n",
       "      <td>0</td>\n",
       "      <td>0</td>\n",
       "      <td>1</td>\n",
       "      <td>3</td>\n",
       "      <td>0</td>\n",
       "      <td>Fuzzers</td>\n",
       "      <td>1</td>\n",
       "    </tr>\n",
       "    <tr>\n",
       "      <th>1</th>\n",
       "      <td>80153</td>\n",
       "      <td>2.308886</td>\n",
       "      <td>tcp</td>\n",
       "      <td>-</td>\n",
       "      <td>FIN</td>\n",
       "      <td>10</td>\n",
       "      <td>8</td>\n",
       "      <td>564</td>\n",
       "      <td>354</td>\n",
       "      <td>7.362858</td>\n",
       "      <td>...</td>\n",
       "      <td>1</td>\n",
       "      <td>1</td>\n",
       "      <td>0</td>\n",
       "      <td>0</td>\n",
       "      <td>0</td>\n",
       "      <td>1</td>\n",
       "      <td>1</td>\n",
       "      <td>0</td>\n",
       "      <td>Reconnaissance</td>\n",
       "      <td>1</td>\n",
       "    </tr>\n",
       "    <tr>\n",
       "      <th>2</th>\n",
       "      <td>164542</td>\n",
       "      <td>0.000003</td>\n",
       "      <td>udp</td>\n",
       "      <td>dns</td>\n",
       "      <td>INT</td>\n",
       "      <td>2</td>\n",
       "      <td>0</td>\n",
       "      <td>114</td>\n",
       "      <td>0</td>\n",
       "      <td>333333.321500</td>\n",
       "      <td>...</td>\n",
       "      <td>17</td>\n",
       "      <td>17</td>\n",
       "      <td>0</td>\n",
       "      <td>0</td>\n",
       "      <td>0</td>\n",
       "      <td>18</td>\n",
       "      <td>17</td>\n",
       "      <td>0</td>\n",
       "      <td>Generic</td>\n",
       "      <td>1</td>\n",
       "    </tr>\n",
       "    <tr>\n",
       "      <th>3</th>\n",
       "      <td>32390</td>\n",
       "      <td>0.004722</td>\n",
       "      <td>tcp</td>\n",
       "      <td>-</td>\n",
       "      <td>FIN</td>\n",
       "      <td>18</td>\n",
       "      <td>18</td>\n",
       "      <td>3960</td>\n",
       "      <td>2456</td>\n",
       "      <td>7412.113355</td>\n",
       "      <td>...</td>\n",
       "      <td>1</td>\n",
       "      <td>4</td>\n",
       "      <td>0</td>\n",
       "      <td>0</td>\n",
       "      <td>0</td>\n",
       "      <td>7</td>\n",
       "      <td>7</td>\n",
       "      <td>0</td>\n",
       "      <td>Normal</td>\n",
       "      <td>0</td>\n",
       "    </tr>\n",
       "    <tr>\n",
       "      <th>4</th>\n",
       "      <td>161063</td>\n",
       "      <td>0.000002</td>\n",
       "      <td>udp</td>\n",
       "      <td>dns</td>\n",
       "      <td>INT</td>\n",
       "      <td>2</td>\n",
       "      <td>0</td>\n",
       "      <td>114</td>\n",
       "      <td>0</td>\n",
       "      <td>500000.001300</td>\n",
       "      <td>...</td>\n",
       "      <td>16</td>\n",
       "      <td>29</td>\n",
       "      <td>0</td>\n",
       "      <td>0</td>\n",
       "      <td>0</td>\n",
       "      <td>16</td>\n",
       "      <td>29</td>\n",
       "      <td>0</td>\n",
       "      <td>Generic</td>\n",
       "      <td>1</td>\n",
       "    </tr>\n",
       "  </tbody>\n",
       "</table>\n",
       "<p>5 rows × 45 columns</p>\n",
       "</div>"
      ],
      "text/plain": [
       "       id       dur proto service state  spkts  dpkts  sbytes  dbytes  \\\n",
       "0  151143  0.000003   udp       -   INT      2      0     104       0   \n",
       "1   80153  2.308886   tcp       -   FIN     10      8     564     354   \n",
       "2  164542  0.000003   udp     dns   INT      2      0     114       0   \n",
       "3   32390  0.004722   tcp       -   FIN     18     18    3960    2456   \n",
       "4  161063  0.000002   udp     dns   INT      2      0     114       0   \n",
       "\n",
       "            rate  ...  ct_dst_sport_ltm  ct_dst_src_ltm  is_ftp_login  \\\n",
       "0  333333.321500  ...                 1               2             0   \n",
       "1       7.362858  ...                 1               1             0   \n",
       "2  333333.321500  ...                17              17             0   \n",
       "3    7412.113355  ...                 1               4             0   \n",
       "4  500000.001300  ...                16              29             0   \n",
       "\n",
       "   ct_ftp_cmd  ct_flw_http_mthd  ct_src_ltm  ct_srv_dst  is_sm_ips_ports  \\\n",
       "0           0                 0           1           3                0   \n",
       "1           0                 0           1           1                0   \n",
       "2           0                 0          18          17                0   \n",
       "3           0                 0           7           7                0   \n",
       "4           0                 0          16          29                0   \n",
       "\n",
       "       attack_cat  label  \n",
       "0         Fuzzers      1  \n",
       "1  Reconnaissance      1  \n",
       "2         Generic      1  \n",
       "3          Normal      0  \n",
       "4         Generic      1  \n",
       "\n",
       "[5 rows x 45 columns]"
      ]
     },
     "execution_count": 108,
     "metadata": {},
     "output_type": "execute_result"
    }
   ],
   "source": [
    "df.head()"
   ]
  },
  {
   "cell_type": "code",
   "execution_count": 109,
   "id": "4dbe1eb6",
   "metadata": {},
   "outputs": [
    {
     "data": {
      "text/plain": [
       "attack_cat\n",
       "Normal            35840\n",
       "Generic           25585\n",
       "Exploits          21514\n",
       "Fuzzers           11593\n",
       "DoS                7837\n",
       "Reconnaissance     6655\n",
       "Analysis           1257\n",
       "Backdoor           1133\n",
       "Shellcode           722\n",
       "Worms                81\n",
       "Name: count, dtype: int64"
      ]
     },
     "execution_count": 109,
     "metadata": {},
     "output_type": "execute_result"
    }
   ],
   "source": [
    "df['attack_cat'].value_counts()"
   ]
  },
  {
   "cell_type": "code",
   "execution_count": 110,
   "id": "591065c5",
   "metadata": {},
   "outputs": [],
   "source": [
    "from sklearn.preprocessing import LabelEncoder\n",
    "\n",
    "le = LabelEncoder()"
   ]
  },
  {
   "cell_type": "code",
   "execution_count": 111,
   "id": "97385ecd",
   "metadata": {},
   "outputs": [],
   "source": [
    "df['attack_cat'] = le.fit_transform(df['attack_cat'])"
   ]
  },
  {
   "cell_type": "code",
   "execution_count": 112,
   "id": "217d0a55",
   "metadata": {},
   "outputs": [],
   "source": [
    "df['proto'] = le.fit_transform(df['proto'])\n",
    "df['service'] = le.fit_transform(df['service'])\n",
    "df['state'] = le.fit_transform(df['state'])"
   ]
  },
  {
   "cell_type": "code",
   "execution_count": 113,
   "id": "e36c8bc4",
   "metadata": {},
   "outputs": [],
   "source": [
    "from sklearn.preprocessing import StandardScaler\n",
    "\n",
    "scaler = StandardScaler()\n",
    "df_scaled = scaler.fit_transform(df)"
   ]
  },
  {
   "cell_type": "code",
   "execution_count": 114,
   "id": "9c475570",
   "metadata": {},
   "outputs": [
    {
     "data": {
      "text/plain": [
       "array([[ 1.25552432, -0.20911086,  0.42020499, ..., -0.12655666,\n",
       "        -0.42596238,  0.68501913],\n",
       "       [-0.14726096,  0.14997587,  0.15173381, ..., -0.12655666,\n",
       "         1.4883947 ,  0.68501913],\n",
       "       [ 1.52029288, -0.20911086,  0.42020499, ..., -0.12655666,\n",
       "         0.21215665,  0.68501913],\n",
       "       ...,\n",
       "       [-0.95632759, -0.20764551,  0.15173381, ..., -0.12655666,\n",
       "         0.85027567, -1.45981324],\n",
       "       [ 1.63703686, -0.20911055,  0.42020499, ..., -0.12655666,\n",
       "         0.21215665,  0.68501913],\n",
       "       [-0.1796086 , -0.03344323,  0.15173381, ..., -0.12655666,\n",
       "        -0.42596238,  0.68501913]])"
      ]
     },
     "execution_count": 114,
     "metadata": {},
     "output_type": "execute_result"
    }
   ],
   "source": [
    "df_scaled"
   ]
  },
  {
   "cell_type": "code",
   "execution_count": null,
   "id": "fb01aec1",
   "metadata": {},
   "outputs": [],
   "source": [
    "y=df['']"
   ]
  },
  {
   "cell_type": "code",
   "execution_count": 115,
   "id": "1d2d42be",
   "metadata": {},
   "outputs": [],
   "source": [
    "from sklearn.decomposition import PCA\n",
    "\n",
    "pca = PCA(n_components = 5)"
   ]
  },
  {
   "cell_type": "code",
   "execution_count": 116,
   "id": "23606bcf",
   "metadata": {},
   "outputs": [],
   "source": [
    "df_pca = pca.fit_transform(df_scaled)"
   ]
  },
  {
   "cell_type": "code",
   "execution_count": 117,
   "id": "9298c45d",
   "metadata": {},
   "outputs": [],
   "source": [
    "df_pca = pd.DataFrame(data=df_pca, columns=['PC1', 'PC2', 'PC3', 'PC4', 'PC5'])"
   ]
  },
  {
   "cell_type": "code",
   "execution_count": 118,
   "id": "42fa5c60",
   "metadata": {},
   "outputs": [
    {
     "data": {
      "text/html": [
       "<div>\n",
       "<style scoped>\n",
       "    .dataframe tbody tr th:only-of-type {\n",
       "        vertical-align: middle;\n",
       "    }\n",
       "\n",
       "    .dataframe tbody tr th {\n",
       "        vertical-align: top;\n",
       "    }\n",
       "\n",
       "    .dataframe thead th {\n",
       "        text-align: right;\n",
       "    }\n",
       "</style>\n",
       "<table border=\"1\" class=\"dataframe\">\n",
       "  <thead>\n",
       "    <tr style=\"text-align: right;\">\n",
       "      <th></th>\n",
       "      <th>PC1</th>\n",
       "      <th>PC2</th>\n",
       "      <th>PC3</th>\n",
       "      <th>PC4</th>\n",
       "      <th>PC5</th>\n",
       "    </tr>\n",
       "  </thead>\n",
       "  <tbody>\n",
       "    <tr>\n",
       "      <th>0</th>\n",
       "      <td>-1.458246</td>\n",
       "      <td>0.228472</td>\n",
       "      <td>-2.002629</td>\n",
       "      <td>1.391630</td>\n",
       "      <td>0.653738</td>\n",
       "    </tr>\n",
       "    <tr>\n",
       "      <th>1</th>\n",
       "      <td>3.260984</td>\n",
       "      <td>-2.547136</td>\n",
       "      <td>-0.186873</td>\n",
       "      <td>-0.359932</td>\n",
       "      <td>0.447987</td>\n",
       "    </tr>\n",
       "    <tr>\n",
       "      <th>2</th>\n",
       "      <td>-4.460072</td>\n",
       "      <td>-0.571855</td>\n",
       "      <td>0.819444</td>\n",
       "      <td>-0.142730</td>\n",
       "      <td>0.058131</td>\n",
       "    </tr>\n",
       "    <tr>\n",
       "      <th>3</th>\n",
       "      <td>1.658359</td>\n",
       "      <td>2.347940</td>\n",
       "      <td>0.338377</td>\n",
       "      <td>-1.422310</td>\n",
       "      <td>-1.045548</td>\n",
       "    </tr>\n",
       "    <tr>\n",
       "      <th>4</th>\n",
       "      <td>-5.340482</td>\n",
       "      <td>-0.689670</td>\n",
       "      <td>1.268513</td>\n",
       "      <td>-0.314099</td>\n",
       "      <td>0.015480</td>\n",
       "    </tr>\n",
       "  </tbody>\n",
       "</table>\n",
       "</div>"
      ],
      "text/plain": [
       "        PC1       PC2       PC3       PC4       PC5\n",
       "0 -1.458246  0.228472 -2.002629  1.391630  0.653738\n",
       "1  3.260984 -2.547136 -0.186873 -0.359932  0.447987\n",
       "2 -4.460072 -0.571855  0.819444 -0.142730  0.058131\n",
       "3  1.658359  2.347940  0.338377 -1.422310 -1.045548\n",
       "4 -5.340482 -0.689670  1.268513 -0.314099  0.015480"
      ]
     },
     "execution_count": 118,
     "metadata": {},
     "output_type": "execute_result"
    }
   ],
   "source": [
    "df_pca.head()"
   ]
  },
  {
   "cell_type": "code",
   "execution_count": 120,
   "id": "111b7b2e",
   "metadata": {},
   "outputs": [
    {
     "data": {
      "text/plain": [
       "0         1\n",
       "1         1\n",
       "2         1\n",
       "3         0\n",
       "4         1\n",
       "         ..\n",
       "112212    0\n",
       "112213    1\n",
       "112214    0\n",
       "112215    1\n",
       "112216    1\n",
       "Name: label, Length: 112217, dtype: int64"
      ]
     },
     "execution_count": 120,
     "metadata": {},
     "output_type": "execute_result"
    }
   ],
   "source": [
    "y"
   ]
  },
  {
   "cell_type": "code",
   "execution_count": 121,
   "id": "2a34c469",
   "metadata": {},
   "outputs": [
    {
     "data": {
      "text/plain": [
       "(112217, 5)"
      ]
     },
     "execution_count": 121,
     "metadata": {},
     "output_type": "execute_result"
    }
   ],
   "source": [
    "df_pca.shape"
   ]
  },
  {
   "cell_type": "code",
   "execution_count": 122,
   "id": "5ddaa3f5",
   "metadata": {},
   "outputs": [],
   "source": [
    "from sklearn.model_selection import train_test_split\n",
    "\n",
    "X_train, X_test, y_train, y_test = train_test_split(df_pca, y, test_size = 0.2, random_state = 32)"
   ]
  },
  {
   "cell_type": "code",
   "execution_count": 123,
   "id": "5e2da9e4",
   "metadata": {},
   "outputs": [],
   "source": [
    "from sklearn.svm import SVC\n",
    "\n",
    "model = SVC()"
   ]
  },
  {
   "cell_type": "code",
   "execution_count": 124,
   "id": "92f088f5",
   "metadata": {},
   "outputs": [
    {
     "data": {
      "text/plain": [
       "0.981598645517733"
      ]
     },
     "execution_count": 124,
     "metadata": {},
     "output_type": "execute_result"
    }
   ],
   "source": [
    "model.fit(X_train,y_train)\n",
    "model.score(X_test, y_test)"
   ]
  },
  {
   "cell_type": "code",
   "execution_count": null,
   "id": "491e6f6c",
   "metadata": {},
   "outputs": [],
   "source": []
  }
 ],
 "metadata": {
  "kernelspec": {
   "display_name": "Python 3 (ipykernel)",
   "language": "python",
   "name": "python3"
  },
  "language_info": {
   "codemirror_mode": {
    "name": "ipython",
    "version": 3
   },
   "file_extension": ".py",
   "mimetype": "text/x-python",
   "name": "python",
   "nbconvert_exporter": "python",
   "pygments_lexer": "ipython3",
   "version": "3.10.9"
  }
 },
 "nbformat": 4,
 "nbformat_minor": 5
}
