{
 "cells": [
  {
   "cell_type": "code",
   "execution_count": 2,
   "id": "a17140c3",
   "metadata": {},
   "outputs": [
    {
     "name": "stdout",
     "output_type": "stream",
     "text": [
      "       RandomForest  LogisticRegression  XGBoost\n",
      "0                 0                   0        0\n",
      "1                 1                   1        1\n",
      "2                 1                   1        1\n",
      "3                 1                   1        1\n",
      "4                 1                   1        1\n",
      "...             ...                 ...      ...\n",
      "28050             1                   1        1\n",
      "28051             1                   1        1\n",
      "28052             1                   1        1\n",
      "28053             1                   1        1\n",
      "28054             0                   0        0\n",
      "\n",
      "[28055 rows x 3 columns]\n"
     ]
    }
   ],
   "source": [
    "import pickle\n",
    "import pandas as pd\n",
    "from sklearn.preprocessing import LabelEncoder\n",
    "\n",
    "# Load the models\n",
    "with open('clf_rf.pkl', 'rb') as f:\n",
    "    clf = pickle.load(f)\n",
    "\n",
    "with open('clf_lr.pkl', 'rb') as f:\n",
    "    clf_lr = pickle.load(f)\n",
    "\n",
    "with open('clf_xgb.pkl', 'rb') as f:\n",
    "    clf_xgb = pickle.load(f)\n",
    "\n",
    "# Load the transformers\n",
    "with open('scaler.pkl', 'rb') as f:\n",
    "    scaler = pickle.load(f)\n",
    "\n",
    "with open('pca.pkl', 'rb') as f:\n",
    "    pca = pickle.load(f)\n",
    "\n",
    "\n",
    "lab= LabelEncoder()\n",
    "df_val = pd.read_csv('Cyber1_val_students.csv')\n",
    "columns_to_en = ['proto', 'service', 'state', 'attack_cat']\n",
    "for column in columns_to_en:\n",
    "    df_val[column] = lab.fit_transform(df_val[column])\n",
    "\n",
    "df_val_scaled = scaler.transform(df_val)\n",
    "\n",
    "# Apply PCA\n",
    "df_val_pca = pca.transform(df_val_scaled)\n",
    "\n",
    "# Convert to DataFrame\n",
    "df_val_pca = pd.DataFrame(df_val_pca, columns=[f'PC{i}' for i in range(1, len(df_val.columns) + 1)])\n",
    "\n",
    "df_val_pca_top3 = df_val_pca[['PC1', 'PC2', 'PC3']]\n",
    "\n",
    "# Predict the labels using the trained models\n",
    "y_pred_rf = clf.predict(df_val_pca_top3)\n",
    "y_pred_lr = clf_lr.predict(df_val_pca_top3)\n",
    "y_pred_xgb = clf_xgb.predict(df_val_pca_top3)\n",
    "\n",
    "# Create a DataFrame with the predictions\n",
    "df_predictions = pd.DataFrame({\n",
    "    'RandomForest': y_pred_rf,\n",
    "    'LogisticRegression': y_pred_lr,\n",
    "    'XGBoost': y_pred_xgb\n",
    "})\n",
    "\n",
    "print(df_predictions)"
   ]
  },
  {
   "cell_type": "code",
   "execution_count": null,
   "id": "d8ad505d",
   "metadata": {},
   "outputs": [],
   "source": []
  }
 ],
 "metadata": {
  "kernelspec": {
   "display_name": "Python 3 (ipykernel)",
   "language": "python",
   "name": "python3"
  },
  "language_info": {
   "codemirror_mode": {
    "name": "ipython",
    "version": 3
   },
   "file_extension": ".py",
   "mimetype": "text/x-python",
   "name": "python",
   "nbconvert_exporter": "python",
   "pygments_lexer": "ipython3",
   "version": "3.10.9"
  }
 },
 "nbformat": 4,
 "nbformat_minor": 5
}
