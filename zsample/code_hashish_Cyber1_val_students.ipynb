{
 "cells": [
  {
   "cell_type": "code",
   "execution_count": 6,
   "id": "2b53497d",
   "metadata": {},
   "outputs": [],
   "source": [
    "import pickle\n",
    "import pandas as pd\n",
    "from sklearn.preprocessing import LabelEncoder\n",
    "\n",
    "# Load the models\n",
    "with open('model.pkl', 'rb') as f:\n",
    "    model = pickle.load(f)\n",
    "\n",
    "\n",
    "# Load the transformers\n",
    "with open('scaler.pkl', 'rb') as f:\n",
    "    scaler = pickle.load(f)\n",
    "\n",
    "with open('pca.pkl', 'rb') as f:\n",
    "    pca = pickle.load(f)\n",
    "\n",
    "\n",
    "lab= LabelEncoder()\n",
    "df_val = pd.read_csv('Cyber1_val_students.csv')\n",
    "columns_to_en = ['proto', 'service', 'state', 'attack_cat']\n",
    "for column in columns_to_en:\n",
    "    df_val[column] = lab.fit_transform(df_val[column])\n",
    "\n"
   ]
  },
  {
   "cell_type": "code",
   "execution_count": 7,
   "id": "2a56886c",
   "metadata": {},
   "outputs": [],
   "source": [
    "df_val_scaled = scaler.transform(df_val)"
   ]
  },
  {
   "cell_type": "code",
   "execution_count": 8,
   "id": "0c06bdd8",
   "metadata": {},
   "outputs": [
    {
     "data": {
      "text/plain": [
       "array([[-1.55659051, -0.18582571,  0.15186148, ..., -0.10484593,\n",
       "        -0.12520348,  0.84409581],\n",
       "       [ 0.32691309,  4.85417958,  0.15186148, ..., -0.56844643,\n",
       "        -0.12520348, -0.42932166],\n",
       "       [-0.57252622, -0.21416579,  0.46784334, ..., -0.38300623,\n",
       "        -0.12520348, -1.70273913],\n",
       "       ...,\n",
       "       [ 0.89208075, -0.21416579,  0.42270308, ...,  1.10051539,\n",
       "        -0.12520348,  0.20738708],\n",
       "       [-0.92252551, -0.00496693,  0.15186148, ..., -0.75388663,\n",
       "        -0.12520348,  0.84409581],\n",
       "       [-1.42100876, -0.21104729,  0.15186148, ..., -0.75388663,\n",
       "        -0.12520348,  0.84409581]])"
      ]
     },
     "execution_count": 8,
     "metadata": {},
     "output_type": "execute_result"
    }
   ],
   "source": [
    "df_val_scaled"
   ]
  },
  {
   "cell_type": "code",
   "execution_count": 10,
   "id": "96d57593",
   "metadata": {},
   "outputs": [
    {
     "data": {
      "text/plain": [
       "(28055, 5)"
      ]
     },
     "execution_count": 10,
     "metadata": {},
     "output_type": "execute_result"
    }
   ],
   "source": [
    "# Apply PCA\n",
    "df_val_pca = pca.transform(df_val_scaled)\n",
    "\n",
    "df_val_pca.shape"
   ]
  },
  {
   "cell_type": "code",
   "execution_count": 11,
   "id": "53d408f0",
   "metadata": {},
   "outputs": [],
   "source": [
    "# Convert to DataFrame\n",
    "df_val_pca = pd.DataFrame(data=df_val_pca, columns=['PC1', 'PC2', 'PC3', 'PC4', 'PC5'])\n",
    "\n"
   ]
  },
  {
   "cell_type": "code",
   "execution_count": null,
   "id": "f91c0a1a",
   "metadata": {},
   "outputs": [],
   "source": [
    "# Predict the labels using the trained models\n",
    "y_pred_rf = model.predict(df_val_pca)\n",
    "\n",
    "# Create a DataFrame with the predictions\n",
    "df_predictions = pd.DataFrame({\n",
    "    'SVR': y_pred_rf,\n",
    "    \n",
    "})\n",
    "\n",
    "print(df_predictions)"
   ]
  }
 ],
 "metadata": {
  "kernelspec": {
   "display_name": "Python 3 (ipykernel)",
   "language": "python",
   "name": "python3"
  },
  "language_info": {
   "codemirror_mode": {
    "name": "ipython",
    "version": 3
   },
   "file_extension": ".py",
   "mimetype": "text/x-python",
   "name": "python",
   "nbconvert_exporter": "python",
   "pygments_lexer": "ipython3",
   "version": "3.10.9"
  }
 },
 "nbformat": 4,
 "nbformat_minor": 5
}
