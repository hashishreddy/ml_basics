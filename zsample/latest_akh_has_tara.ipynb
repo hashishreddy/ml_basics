{
 "cells": [
  {
   "cell_type": "code",
   "execution_count": 25,
   "metadata": {},
   "outputs": [],
   "source": [
    "from sklearn.decomposition import PCA\n",
    "from sklearn.preprocessing import StandardScaler\n",
    "import pandas as pd\n",
    "from sklearn.preprocessing import LabelEncoder\n",
    "from sklearn.metrics import accuracy_score"
   ]
  },
  {
   "cell_type": "code",
   "execution_count": 16,
   "metadata": {},
   "outputs": [],
   "source": [
    "df = pd.read_csv('Cyber1_train.csv')"
   ]
  },
  {
   "cell_type": "code",
   "execution_count": 17,
   "metadata": {},
   "outputs": [],
   "source": [
    "from sklearn.preprocessing import LabelEncoder\n",
    "\n",
    "le = LabelEncoder()\n",
    "\n",
    "# List of columns to encode\n",
    "columns_to_encode = ['proto', 'service', 'state', 'attack_cat']\n",
    "\n",
    "# Apply LabelEncoder to each column\n",
    "for column in columns_to_encode:\n",
    "    df[column] = le.fit_transform(df[column])\n",
    "\n",
    "df_target = df['label']\n",
    "df = df.drop('label', axis=1)\n"
   ]
  },
  {
   "cell_type": "code",
   "execution_count": 18,
   "metadata": {},
   "outputs": [
    {
     "name": "stdout",
     "output_type": "stream",
     "text": [
      "Explained Variance Ratio: [2.40707615e-01 9.04635295e-02 8.83443582e-02 7.34798778e-02\n",
      " 6.13006236e-02 5.27346589e-02 4.56095419e-02 4.34142713e-02\n",
      " 3.26331385e-02 2.80209293e-02 2.68535488e-02 2.20236471e-02\n",
      " 1.92323893e-02 1.72021642e-02 1.69653001e-02 1.64323532e-02\n",
      " 1.55567686e-02 1.40982419e-02 1.28245965e-02 9.76452897e-03\n",
      " 8.95592335e-03 8.15687407e-03 7.95090184e-03 7.43437511e-03\n",
      " 6.53016325e-03 5.80353552e-03 5.51657478e-03 4.72147469e-03\n",
      " 3.89595230e-03 3.77354336e-03 3.11372257e-03 2.18573808e-03\n",
      " 1.19526698e-03 9.21010217e-04 7.42101073e-04 4.67250689e-04\n",
      " 4.04207706e-04 2.63394667e-04 1.30450781e-04 1.27219686e-04\n",
      " 3.24449121e-05 1.57917741e-05 8.16351647e-32 2.53725264e-32]\n"
     ]
    }
   ],
   "source": [
    "\n",
    "scaler = StandardScaler()\n",
    "df_scaled = scaler.fit_transform(df)\n",
    "\n",
    "# Apply PCA\n",
    "pca = PCA()\n",
    "df_pca = pca.fit_transform(df_scaled)\n",
    "\n",
    "# Convert to DataFrame\n",
    "df_pca = pd.DataFrame(df_pca, columns=[f'PC{i}' for i in range(1, len(df.columns) + 1)])\n",
    "\n",
    "# Print explained variance ratio\n",
    "print('Explained Variance Ratio:', pca.explained_variance_ratio_)\n"
   ]
  },
  {
   "cell_type": "code",
   "execution_count": 26,
   "metadata": {},
   "outputs": [
    {
     "name": "stdout",
     "output_type": "stream",
     "text": [
      "              precision    recall  f1-score   support\n",
      "\n",
      "           0       0.96      0.83      0.89      7188\n",
      "           1       0.93      0.98      0.95     15256\n",
      "\n",
      "    accuracy                           0.93     22444\n",
      "   macro avg       0.94      0.91      0.92     22444\n",
      "weighted avg       0.94      0.93      0.93     22444\n",
      "\n",
      "Accuracy: 0.934325432186776\n"
     ]
    }
   ],
   "source": [
    "from sklearn.ensemble import RandomForestClassifier\n",
    "from sklearn.model_selection import train_test_split\n",
    "from sklearn.metrics import classification_report\n",
    "\n",
    "df_pca_top3 = df_pca[['PC1', 'PC2', 'PC3']]\n",
    "\n",
    "target = df_target\n",
    "\n",
    "X_train, X_test, y_train, y_test = train_test_split(df_pca_top3, target, test_size=0.2, random_state=42)\n",
    "\n",
    "clf = RandomForestClassifier(n_estimators=200, random_state=42)\n",
    "\n",
    "clf.fit(X_train, y_train)\n",
    "\n",
    "y_pred = clf.predict(X_test)\n",
    "\n",
    "print(classification_report(y_test, y_pred))\n",
    "accuracy = accuracy_score(y_test, y_pred)\n",
    "print(f'Accuracy: {accuracy}')\n"
   ]
  },
  {
   "cell_type": "code",
   "execution_count": 27,
   "metadata": {},
   "outputs": [
    {
     "name": "stdout",
     "output_type": "stream",
     "text": [
      "              precision    recall  f1-score   support\n",
      "\n",
      "           0       0.90      0.75      0.82      7188\n",
      "           1       0.89      0.96      0.93     15256\n",
      "\n",
      "    accuracy                           0.89     22444\n",
      "   macro avg       0.90      0.86      0.87     22444\n",
      "weighted avg       0.90      0.89      0.89     22444\n",
      "\n",
      "Accuracy: 0.8948494029584744\n"
     ]
    }
   ],
   "source": [
    "from sklearn.linear_model import LogisticRegression\n",
    "\n",
    "# Initialize the Logistic Regression model\n",
    "clf_lr = LogisticRegression()\n",
    "\n",
    "# Fit the model to the training data\n",
    "clf_lr.fit(X_train, y_train)\n",
    "\n",
    "# Predict the labels of the test set\n",
    "y_pred_lr = clf_lr.predict(X_test)\n",
    "\n",
    "# Print the classification report\n",
    "print(classification_report(y_test, y_pred_lr))\n",
    "\n",
    "accuracy = accuracy_score(y_test, y_pred_lr)\n",
    "print(f'Accuracy: {accuracy}')"
   ]
  },
  {
   "cell_type": "code",
   "execution_count": 28,
   "metadata": {},
   "outputs": [
    {
     "name": "stdout",
     "output_type": "stream",
     "text": [
      "              precision    recall  f1-score   support\n",
      "\n",
      "           0       0.97      0.81      0.88      7188\n",
      "           1       0.92      0.99      0.95     15256\n",
      "\n",
      "    accuracy                           0.93     22444\n",
      "   macro avg       0.94      0.90      0.92     22444\n",
      "weighted avg       0.94      0.93      0.93     22444\n",
      "\n",
      "Accuracy: 0.9321867759757619\n"
     ]
    }
   ],
   "source": [
    "import xgboost as xgb\n",
    "\n",
    "# Initialize the XGBoost model\n",
    "clf_xgb = xgb.XGBClassifier()\n",
    "\n",
    "# Fit the model to the training data\n",
    "clf_xgb.fit(X_train, y_train)\n",
    "\n",
    "# Predict the labels of the test set\n",
    "y_pred_xgb = clf_xgb.predict(X_test)\n",
    "\n",
    "# Print the classification report\n",
    "print(classification_report(y_test, y_pred_xgb))\n",
    "\n",
    "accuracy = accuracy_score(y_test, y_pred_xgb)\n",
    "print(f'Accuracy: {accuracy}')"
   ]
  }
 ],
 "metadata": {
  "kernelspec": {
   "display_name": "Python 3",
   "language": "python",
   "name": "python3"
  },
  "language_info": {
   "codemirror_mode": {
    "name": "ipython",
    "version": 3
   },
   "file_extension": ".py",
   "mimetype": "text/x-python",
   "name": "python",
   "nbconvert_exporter": "python",
   "pygments_lexer": "ipython3",
   "version": "3.10.7"
  }
 },
 "nbformat": 4,
 "nbformat_minor": 2
}
